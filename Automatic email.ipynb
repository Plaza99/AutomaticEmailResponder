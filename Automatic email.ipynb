{
 "cells": [
  {
   "cell_type": "markdown",
   "id": "5923c395",
   "metadata": {},
   "source": [
    "# Automatic email responder\n",
    "\n",
    "This project is divided into three main phases:\n",
    "1) Email retrieving\n",
    "2) Generate response\n",
    "3) Create response"
   ]
  },
  {
   "cell_type": "markdown",
   "id": "49a7729f",
   "metadata": {},
   "source": [
    "#### Requirements"
   ]
  },
  {
   "cell_type": "code",
   "execution_count": 1,
   "id": "1426ed2b",
   "metadata": {},
   "outputs": [],
   "source": [
    "import os.path\n",
    "\n",
    "# OPEN-AI API\n",
    "# pip install openai\n",
    "import openai\n",
    "from openai import OpenAI\n",
    "\n",
    "# GMAIL API\n",
    "# pip install --upgrade google-api-python-client google-auth-httplib2 google-auth-oauthlib\n",
    "from google.auth.transport.requests import Request\n",
    "from google.oauth2.credentials import Credentials\n",
    "from google_auth_oauthlib.flow import InstalledAppFlow\n",
    "from googleapiclient.discovery import build\n",
    "from googleapiclient.errors import HttpError"
   ]
  },
  {
   "cell_type": "markdown",
   "id": "bb8c5ba2",
   "metadata": {},
   "source": [
    "## Email retrieving"
   ]
  },
  {
   "cell_type": "markdown",
   "id": "8688c812",
   "metadata": {},
   "source": [
    "Authenticating into Gmail through Gmail API.\n",
    "\n",
    "For this purpose, a specific google user was created: *emmanueltestpiazzatest@gmail.com* "
   ]
  },
  {
   "cell_type": "code",
   "execution_count": 2,
   "id": "014a13c9",
   "metadata": {},
   "outputs": [],
   "source": [
    "# credentials and authorizations\n",
    "creds = None\n",
    "SCOPES = [\"https://www.googleapis.com/auth/gmail.readonly\",\n",
    "          \"https://www.googleapis.com/auth/gmail.modify\",\n",
    "          \"https://www.googleapis.com/auth/gmail.compose\"]\n",
    "\n",
    "# authenticate\n",
    "if os.path.exists(\"token.json\"):\n",
    "    creds = Credentials.from_authorized_user_file(\"token.json\", SCOPES)  \n",
    "if not creds or not creds.valid:\n",
    "    if creds and creds.expired and creds.refresh_token:\n",
    "        creds.refresh(Request())\n",
    "    else:\n",
    "        flow = InstalledAppFlow.from_client_secrets_file(\"credentials.json\", SCOPES)\n",
    "        creds = flow.run_local_server(port=0)\n",
    "    # save the credentials for the next run\n",
    "    with open(\"token.json\", \"w\") as token:\n",
    "        token.write(creds.to_json())"
   ]
  },
  {
   "cell_type": "markdown",
   "id": "47447970",
   "metadata": {},
   "source": [
    "Reading incoming and unreaded messages"
   ]
  },
  {
   "cell_type": "code",
   "execution_count": 3,
   "id": "dd2c1188",
   "metadata": {
    "scrolled": true
   },
   "outputs": [
    {
     "name": "stdout",
     "output_type": "stream",
     "text": [
      "Incoming messages:\n",
      "\n",
      "From :  Emmanuel Piazza <emmanuelpiazza2020@gmail.com>\n",
      "Subject :  Domanda\n",
      "Snippet :  Ciao, questa mail è una prova per vedere se l&#39;api funziona bene \n",
      "\n"
     ]
    }
   ],
   "source": [
    "try:\n",
    "    service = build(\"gmail\", \"v1\", credentials=creds)\n",
    "    results = service.users().messages().list(userId=\"me\", q=\"{is:unread AND label:inbox}\").execute()\n",
    "    message_list = results.get(\"messages\", [])\n",
    "\n",
    "    if not message_list:\n",
    "        print(\"No messages found.\")\n",
    "    else:    \n",
    "        print(\"Incoming messages:\\n\")\n",
    "        for message in message_list:\n",
    "            result = service.users().messages().get(userId=\"me\",id=message[\"id\"]).execute()\n",
    "            for elem in result[\"payload\"][\"headers\"]:\n",
    "                if(elem[\"name\"] in [\"Subject\", \"From\"]):\n",
    "                    print(elem[\"name\"],\": \", elem[\"value\"])\n",
    "            question = result[\"snippet\"]\n",
    "            print(\"Snippet : \", result[\"snippet\"], \"\\n\")\n",
    "\n",
    "except HttpError as error:\n",
    "    print(f\"An error occurred: {error}\")"
   ]
  },
  {
   "cell_type": "markdown",
   "id": "90e91b2e",
   "metadata": {},
   "source": [
    "## Generate response"
   ]
  },
  {
   "cell_type": "markdown",
   "id": "9bf9a7fd",
   "metadata": {},
   "source": [
    "Retrieve OpenAI API key"
   ]
  },
  {
   "cell_type": "code",
   "execution_count": 4,
   "id": "97770496",
   "metadata": {},
   "outputs": [],
   "source": [
    "text_file = open(\"openai-key.txt\", \"r\")\n",
    "api_key = text_file.read()\n",
    "text_file.close()\n",
    "os.environ['OPENAI_API_KEY'] = \"insert-openAI-KEY-here\""
   ]
  },
  {
   "cell_type": "markdown",
   "id": "a7f460ca",
   "metadata": {},
   "source": [
    "Generate prompt used for establish the context for the response message"
   ]
  },
  {
   "cell_type": "code",
   "execution_count": 77,
   "id": "24659673",
   "metadata": {},
   "outputs": [],
   "source": [
    "prompt = \"We own an online store. Manage clients feedback about our products and services. Always be kind. Shipments between 4-5 days. Return policy at 'http://onlinefurnaces.com/return'. For complains, support service number: 555-123456789\""
   ]
  },
  {
   "cell_type": "code",
   "execution_count": 78,
   "id": "49ab326c",
   "metadata": {},
   "outputs": [],
   "source": [
    "question = \"I bought a chair but i don't want it anymore! it's not like in the photo\""
   ]
  },
  {
   "cell_type": "code",
   "execution_count": 79,
   "id": "1e701c2a",
   "metadata": {},
   "outputs": [],
   "source": [
    "def generate_response(question):\n",
    "    client = OpenAI()\n",
    "    response = client.chat.completions.create(\n",
    "      model=\"gpt-3.5-turbo\",\n",
    "      messages=[\n",
    "        {\"role\": \"assistant\", \"content\": prompt},\n",
    "        {\"role\": \"user\", \"content\": question}\n",
    "      ]\n",
    "    )\n",
    "    print(response)\n",
    "    return response"
   ]
  },
  {
   "cell_type": "code",
   "execution_count": 80,
   "id": "da545869",
   "metadata": {},
   "outputs": [
    {
     "name": "stdout",
     "output_type": "stream",
     "text": [
      "ChatCompletion(id='chatcmpl-8kEBJLGIwMTYdZ9piK2FAA4D4pygk', choices=[Choice(finish_reason='stop', index=0, message=ChatCompletionMessage(content=\"We're sorry to hear that you're unsatisfied with your purchase. Please refer to our return policy at 'http://onlinefurnaces.com/return' for information on how to proceed with returning the chair. If you have any further questions or require assistance, please contact our support service at 555-123456789. We apologize for any inconvenience caused and appreciate your understanding.\", role='assistant', function_call=None, tool_calls=None), logprobs=None)], created=1706028293, model='gpt-3.5-turbo-0613', object='chat.completion', system_fingerprint=None, usage=CompletionUsage(completion_tokens=77, prompt_tokens=85, total_tokens=162))\n"
     ]
    }
   ],
   "source": [
    "response = generate_response(question)"
   ]
  },
  {
   "cell_type": "code",
   "execution_count": 81,
   "id": "17bc2c92",
   "metadata": {},
   "outputs": [
    {
     "data": {
      "text/plain": [
       "\"We're sorry to hear that you're unsatisfied with your purchase. Please refer to our return policy at 'http://onlinefurnaces.com/return' for information on how to proceed with returning the chair. If you have any further questions or require assistance, please contact our support service at 555-123456789. We apologize for any inconvenience caused and appreciate your understanding.\""
      ]
     },
     "execution_count": 81,
     "metadata": {},
     "output_type": "execute_result"
    }
   ],
   "source": [
    "response.choices[0].message.content"
   ]
  },
  {
   "cell_type": "markdown",
   "id": "6a970ac2",
   "metadata": {},
   "source": [
    "## Create response"
   ]
  },
  {
   "cell_type": "markdown",
   "id": "35deb3ab",
   "metadata": {},
   "source": [
    "Retrieve only needed informations from email"
   ]
  },
  {
   "cell_type": "code",
   "execution_count": 4,
   "id": "97f377b6",
   "metadata": {},
   "outputs": [],
   "source": [
    "def create_msg_obj(msg):\n",
    "    \n",
    "    obj = {}\n",
    "    obj['threadId'] = msg['threadId']\n",
    "    obj['snippet'] = msg['snippet']\n",
    "    obj['id'] = msg['id']\n",
    "    for elem in msg['payload']['headers']:\n",
    "        if(elem[\"name\"] in ['To', 'From', 'Subject']):\n",
    "            obj[elem[\"name\"]] = elem[\"value\"]\n",
    "            print(elem[\"name\"],\": \", elem[\"value\"])        \n",
    "    return obj"
   ]
  },
  {
   "cell_type": "markdown",
   "id": "42ed3acf",
   "metadata": {},
   "source": [
    "Mark incoming mail as readed in order to not generate a response more than once"
   ]
  },
  {
   "cell_type": "code",
   "execution_count": 37,
   "id": "582e32a5",
   "metadata": {},
   "outputs": [],
   "source": [
    "def mark_as_readed(msg_id):\n",
    "    \n",
    "    try:\n",
    "        service = build(\"gmail\", \"v1\", credentials=creds)\n",
    "        results = service.users().messages().modify(userId=\"me\", id=msg_id, body={'removeLabelIds':[\"UNREAD\"]}).execute()\n",
    "        print(\"Message [\",msg_id,\"] labeled as readed\")\n",
    "        \n",
    "    except Exception as e:\n",
    "        print(\"Impossible to mark message [\",msg_id,\"] - e:\",e)"
   ]
  },
  {
   "cell_type": "markdown",
   "id": "32351640",
   "metadata": {},
   "source": [
    "Creating response inside Draft ('Bozze') folder."
   ]
  },
  {
   "cell_type": "code",
   "execution_count": 5,
   "id": "df0d298b",
   "metadata": {},
   "outputs": [],
   "source": [
    "from email.message import EmailMessage\n",
    "import base64\n",
    "\n",
    "def create_response(msg, reply):\n",
    "    \n",
    "    end = \"\\n\\nRisposta generata automaticamente da ChatGPT.\"\n",
    "    try:\n",
    "        message = EmailMessage()\n",
    "        message.set_content(reply + end)\n",
    "        message[\"To\"] = msg['To']\n",
    "        message[\"From\"] = msg['From']\n",
    "        message[\"Subject\"] = \"RE:\"+ msg['Subject']\n",
    "        draft_obj = {\n",
    "            \"message\":{\n",
    "                'raw': base64.urlsafe_b64encode(message.as_string().encode()).decode(),\n",
    "                'threadId': msg['threadId']\n",
    "            }\n",
    "        }\n",
    "    \n",
    "        service = build(\"gmail\", \"v1\", credentials=creds)\n",
    "        draft = service.users().drafts().create(userId=\"me\", body=draft_obj).execute()\n",
    "        if(draft):\n",
    "            print(\"Draft message correctly created\")\n",
    "        \n",
    "        \n",
    "    except Exception as e:\n",
    "        print(\"Impossible to create draft message - e:\",e)"
   ]
  },
  {
   "cell_type": "markdown",
   "id": "75e9179c",
   "metadata": {},
   "source": [
    "## TEST"
   ]
  },
  {
   "cell_type": "code",
   "execution_count": null,
   "id": "0dcf37d9",
   "metadata": {},
   "outputs": [],
   "source": [
    "prompt = \"We own an online store. Manage clients feedback about our products and services. Always be kind. Shipments between 4-5 days. For complains, support service number: 555-123456789\""
   ]
  },
  {
   "cell_type": "code",
   "execution_count": 42,
   "id": "7f2c76d4",
   "metadata": {},
   "outputs": [
    {
     "name": "stdout",
     "output_type": "stream",
     "text": [
      "No new incoming messages found.\n"
     ]
    }
   ],
   "source": [
    "try:\n",
    "    service = build(\"gmail\", \"v1\", credentials=creds)\n",
    "    results = service.users().messages().list(userId=\"me\", q=\"{is:unread AND label:inbox}\").execute()\n",
    "    message_list = results.get(\"messages\", [])\n",
    "\n",
    "    if not message_list:\n",
    "        print(\"No new incoming messages found.\")\n",
    "    else:    \n",
    "        print(\"Incoming messages:\\n\")\n",
    "        for message in message_list:\n",
    "            result = service.users().messages().get(userId=\"me\",id=message[\"id\"]).execute()\n",
    "            msg = create_msg_obj(result)\n",
    "            reply = generate_response(prompt, msg)\n",
    "            reply = reply.choices[0].message.content\n",
    "            mark_as_readed(msg['id'])\n",
    "            create_response(msg, reply)\n",
    "            print(\"\\n\\n\\n\")\n",
    "\n",
    "except HttpError as error:\n",
    "    print(f\"An error occurred: {error}\")"
   ]
  }
 ],
 "metadata": {
  "kernelspec": {
   "display_name": "Python 3 (ipykernel)",
   "language": "python",
   "name": "python3"
  },
  "language_info": {
   "codemirror_mode": {
    "name": "ipython",
    "version": 3
   },
   "file_extension": ".py",
   "mimetype": "text/x-python",
   "name": "python",
   "nbconvert_exporter": "python",
   "pygments_lexer": "ipython3",
   "version": "3.9.12"
  }
 },
 "nbformat": 4,
 "nbformat_minor": 5
}
